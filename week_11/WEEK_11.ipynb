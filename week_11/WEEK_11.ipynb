{
  "nbformat": 4,
  "nbformat_minor": 0,
  "metadata": {
    "colab": {
      "provenance": []
    },
    "kernelspec": {
      "name": "python3",
      "display_name": "Python 3"
    },
    "language_info": {
      "name": "python"
    }
  },
  "cells": [
    {
      "cell_type": "code",
      "source": [
        "pip install pandas numpy xgboost scikit-learn"
      ],
      "metadata": {
        "colab": {
          "base_uri": "https://localhost:8080/"
        },
        "id": "Xi7IILu_osej",
        "outputId": "c43978ac-ec7e-4ca7-c9de-e6ccc1ada658"
      },
      "execution_count": 2,
      "outputs": [
        {
          "output_type": "stream",
          "name": "stdout",
          "text": [
            "Requirement already satisfied: pandas in /usr/local/lib/python3.11/dist-packages (2.2.2)\n",
            "Requirement already satisfied: numpy in /usr/local/lib/python3.11/dist-packages (2.0.2)\n",
            "Requirement already satisfied: xgboost in /usr/local/lib/python3.11/dist-packages (2.1.4)\n",
            "Requirement already satisfied: scikit-learn in /usr/local/lib/python3.11/dist-packages (1.6.1)\n",
            "Requirement already satisfied: python-dateutil>=2.8.2 in /usr/local/lib/python3.11/dist-packages (from pandas) (2.8.2)\n",
            "Requirement already satisfied: pytz>=2020.1 in /usr/local/lib/python3.11/dist-packages (from pandas) (2025.2)\n",
            "Requirement already satisfied: tzdata>=2022.7 in /usr/local/lib/python3.11/dist-packages (from pandas) (2025.2)\n",
            "Requirement already satisfied: nvidia-nccl-cu12 in /usr/local/lib/python3.11/dist-packages (from xgboost) (2.21.5)\n",
            "Requirement already satisfied: scipy in /usr/local/lib/python3.11/dist-packages (from xgboost) (1.14.1)\n",
            "Requirement already satisfied: joblib>=1.2.0 in /usr/local/lib/python3.11/dist-packages (from scikit-learn) (1.4.2)\n",
            "Requirement already satisfied: threadpoolctl>=3.1.0 in /usr/local/lib/python3.11/dist-packages (from scikit-learn) (3.6.0)\n",
            "Requirement already satisfied: six>=1.5 in /usr/local/lib/python3.11/dist-packages (from python-dateutil>=2.8.2->pandas) (1.17.0)\n"
          ]
        }
      ]
    },
    {
      "cell_type": "code",
      "execution_count": 3,
      "metadata": {
        "id": "32IsO9NAobqG"
      },
      "outputs": [],
      "source": [
        "import pandas as pd\n",
        "import numpy as np\n",
        "import time\n",
        "from sklearn.model_selection import cross_val_score\n",
        "from xgboost import XGBClassifier\n",
        "from sklearn.preprocessing import LabelEncoder\n",
        "from sklearn.model_selection import train_test_split\n",
        "from sklearn.datasets import fetch_openml\n"
      ]
    },
    {
      "cell_type": "markdown",
      "source": [
        "# Step 1: Load and Prepare the Data"
      ],
      "metadata": {
        "id": "A48d2XcEo0iI"
      }
    },
    {
      "cell_type": "code",
      "source": [
        "# Load Pima Indians Diabetes dataset (similar to mlbench version)\n",
        "def load_pima_dataset():\n",
        "    # Fetch from OpenML\n",
        "    pima = fetch_openml(name='diabetes', version=1, as_frame=True)\n",
        "    df = pima.frame\n",
        "    df.columns = ['pregnant', 'glucose', 'pressure', 'triceps', 'insulin', 'mass', 'pedigree', 'age', 'diabetes']\n",
        "    df = df.dropna()\n",
        "\n",
        "    # Encode outcome\n",
        "    le = LabelEncoder()\n",
        "    df['outcome'] = le.fit_transform(df['diabetes'])  # pos = 1, neg = 0\n",
        "    df = df.drop(columns=['diabetes'])\n",
        "\n",
        "    return df"
      ],
      "metadata": {
        "id": "zB18G3oIol_J"
      },
      "execution_count": 4,
      "outputs": []
    },
    {
      "cell_type": "markdown",
      "source": [
        "# Step 2: Generate Synthetic Data"
      ],
      "metadata": {
        "id": "ittnWuSTo59z"
      }
    },
    {
      "cell_type": "code",
      "source": [
        "def generate_dataset(df, size):\n",
        "    sampled_df = df.sample(n=size, replace=True, random_state=123).reset_index(drop=True)\n",
        "    return sampled_df"
      ],
      "metadata": {
        "id": "AfCfY0D1orM-"
      },
      "execution_count": 5,
      "outputs": []
    },
    {
      "cell_type": "markdown",
      "source": [
        "# Step 3: XGBoost Model with 5-fold CV"
      ],
      "metadata": {
        "id": "8VXerpFFo-pi"
      }
    },
    {
      "cell_type": "code",
      "source": [
        "def run_xgboost_cv(X, y):\n",
        "    model = XGBClassifier(use_label_encoder=False, eval_metric='logloss', verbosity=0)\n",
        "    start = time.time()\n",
        "    scores = cross_val_score(model, X, y, cv=5, scoring='accuracy')\n",
        "    end = time.time()\n",
        "    avg_accuracy = np.mean(scores)\n",
        "    time_taken = end - start\n",
        "    return avg_accuracy, time_taken"
      ],
      "metadata": {
        "id": "oA-4niItpCzK"
      },
      "execution_count": 6,
      "outputs": []
    },
    {
      "cell_type": "markdown",
      "source": [
        "# Step 4: Main Process"
      ],
      "metadata": {
        "id": "ZAeIH_ompIXq"
      }
    },
    {
      "cell_type": "code",
      "source": [
        "if __name__ == \"__main__\":\n",
        "    df = load_pima_dataset()\n",
        "\n",
        "    dataset_sizes = [100, 1000, 10000]  # to keep fast; larger sizes possible if machine allows\n",
        "    results = []\n",
        "\n",
        "    for size in dataset_sizes:\n",
        "        print(f\"\\nRunning for dataset size: {size}\")\n",
        "        df_sampled = generate_dataset(df, size)\n",
        "        X = df_sampled.drop(columns=['outcome'])\n",
        "        y = df_sampled['outcome']\n",
        "\n",
        "        try:\n",
        "            accuracy, duration = run_xgboost_cv(X, y)\n",
        "            results.append({\n",
        "                'Method Used': 'Python XGBoost 5-fold CV',\n",
        "                'Dataset Size': size,\n",
        "                'Testing-set Predictive Performance (%)': round(accuracy * 100, 2),\n",
        "                'Time Taken to Fit (seconds)': round(duration, 2)\n",
        "            })\n",
        "        except Exception as e:\n",
        "            results.append({\n",
        "                'Method Used': 'Python XGBoost 5-fold CV',\n",
        "                'Dataset Size': size,\n",
        "                'Testing-set Predictive Performance (%)': 'Error',\n",
        "                'Time Taken to Fit (seconds)': str(e)\n",
        "            })\n"
      ],
      "metadata": {
        "colab": {
          "base_uri": "https://localhost:8080/"
        },
        "id": "jg3BmpLopJVI",
        "outputId": "a924cf1d-82f2-49ed-c511-102f9f450d56"
      },
      "execution_count": 7,
      "outputs": [
        {
          "output_type": "stream",
          "name": "stdout",
          "text": [
            "\n",
            "Running for dataset size: 100\n",
            "\n",
            "Running for dataset size: 1000\n",
            "\n",
            "Running for dataset size: 10000\n"
          ]
        }
      ]
    },
    {
      "cell_type": "code",
      "source": [
        "results_df = pd.DataFrame(results)\n",
        "print(\"\\nFinal Results:\")\n",
        "print(results_df)"
      ],
      "metadata": {
        "colab": {
          "base_uri": "https://localhost:8080/"
        },
        "id": "oBEoQTbpqMN2",
        "outputId": "3c05cfa9-9c6a-4f99-9cc6-5c00a1dc1ad6"
      },
      "execution_count": 13,
      "outputs": [
        {
          "output_type": "stream",
          "name": "stdout",
          "text": [
            "\n",
            "Final Results:\n",
            "                Method Used  Dataset Size  \\\n",
            "0  Python XGBoost 5-fold CV           100   \n",
            "1  Python XGBoost 5-fold CV          1000   \n",
            "2  Python XGBoost 5-fold CV         10000   \n",
            "\n",
            "   Testing-set Predictive Performance (%)  Time Taken to Fit (seconds)  \n",
            "0                                    80.0                         2.73  \n",
            "1                                    90.6                         0.37  \n",
            "2                                   100.0                         0.78  \n",
            "\n",
            "✅ Results saved to 'xgboost_results_python.csv'\n"
          ]
        }
      ]
    },
    {
      "cell_type": "code",
      "source": [
        "# Save results\n",
        "results_df.to_csv('xgboost_results_python.csv', index=False)\n",
        "print(\"\\n✅ Results saved to 'xgboost_results_python.csv'\")"
      ],
      "metadata": {
        "colab": {
          "base_uri": "https://localhost:8080/"
        },
        "id": "dnV5KLxQqY9M",
        "outputId": "1330ba9c-6368-431e-c0ca-07b3ff590f33"
      },
      "execution_count": 14,
      "outputs": [
        {
          "output_type": "stream",
          "name": "stdout",
          "text": [
            "\n",
            "✅ Results saved to 'xgboost_results_python.csv'\n"
          ]
        }
      ]
    },
    {
      "cell_type": "code",
      "source": [
        "from google.colab import files\n",
        "files.download('xgboost_results_python.csv')\n"
      ],
      "metadata": {
        "colab": {
          "base_uri": "https://localhost:8080/",
          "height": 17
        },
        "id": "46aq05pY7wkq",
        "outputId": "5a4b40c1-b9d8-40d5-c744-0e2343d83262"
      },
      "execution_count": 22,
      "outputs": [
        {
          "output_type": "display_data",
          "data": {
            "text/plain": [
              "<IPython.core.display.Javascript object>"
            ],
            "application/javascript": [
              "\n",
              "    async function download(id, filename, size) {\n",
              "      if (!google.colab.kernel.accessAllowed) {\n",
              "        return;\n",
              "      }\n",
              "      const div = document.createElement('div');\n",
              "      const label = document.createElement('label');\n",
              "      label.textContent = `Downloading \"${filename}\": `;\n",
              "      div.appendChild(label);\n",
              "      const progress = document.createElement('progress');\n",
              "      progress.max = size;\n",
              "      div.appendChild(progress);\n",
              "      document.body.appendChild(div);\n",
              "\n",
              "      const buffers = [];\n",
              "      let downloaded = 0;\n",
              "\n",
              "      const channel = await google.colab.kernel.comms.open(id);\n",
              "      // Send a message to notify the kernel that we're ready.\n",
              "      channel.send({})\n",
              "\n",
              "      for await (const message of channel.messages) {\n",
              "        // Send a message to notify the kernel that we're ready.\n",
              "        channel.send({})\n",
              "        if (message.buffers) {\n",
              "          for (const buffer of message.buffers) {\n",
              "            buffers.push(buffer);\n",
              "            downloaded += buffer.byteLength;\n",
              "            progress.value = downloaded;\n",
              "          }\n",
              "        }\n",
              "      }\n",
              "      const blob = new Blob(buffers, {type: 'application/binary'});\n",
              "      const a = document.createElement('a');\n",
              "      a.href = window.URL.createObjectURL(blob);\n",
              "      a.download = filename;\n",
              "      div.appendChild(a);\n",
              "      a.click();\n",
              "      div.remove();\n",
              "    }\n",
              "  "
            ]
          },
          "metadata": {}
        },
        {
          "output_type": "display_data",
          "data": {
            "text/plain": [
              "<IPython.core.display.Javascript object>"
            ],
            "application/javascript": [
              "download(\"download_2f1527b3-9f36-40e0-9d3c-12dce9d23d3b\", \"xgboost_results_python.csv\", 213)"
            ]
          },
          "metadata": {}
        }
      ]
    },
    {
      "cell_type": "markdown",
      "source": [
        "for big xgboost"
      ],
      "metadata": {
        "id": "BbsAf1FqGEcJ"
      }
    },
    {
      "cell_type": "code",
      "source": [
        "import pandas as pd\n",
        "import numpy as np\n",
        "import time\n",
        "from sklearn.model_selection import cross_val_score\n",
        "from xgboost import XGBClassifier\n",
        "from sklearn.preprocessing import LabelEncoder\n",
        "from sklearn.datasets import fetch_openml\n"
      ],
      "metadata": {
        "id": "8BOY2g6jGEzf"
      },
      "execution_count": 23,
      "outputs": []
    },
    {
      "cell_type": "code",
      "source": [
        "# Step 1: Load Pima Indians Diabetes Dataset\n",
        "def load_pima():\n",
        "    pima = fetch_openml(name='diabetes', version=1, as_frame=True)\n",
        "    df = pima.frame\n",
        "    df.columns = ['pregnant', 'glucose', 'pressure', 'triceps', 'insulin', 'mass', 'pedigree', 'age', 'diabetes']\n",
        "    df = df.dropna()\n",
        "    le = LabelEncoder()\n",
        "    df['outcome'] = le.fit_transform(df['diabetes'])  # pos=1, neg=0\n",
        "    df = df.drop(columns=['diabetes'])\n",
        "    return df"
      ],
      "metadata": {
        "id": "yD6gOMWjGJOF"
      },
      "execution_count": 24,
      "outputs": []
    },
    {
      "cell_type": "code",
      "source": [
        "# Step 2: Generate big synthetic dataset\n",
        "def generate_big_dataset(df, size):\n",
        "    sampled_df = df.sample(n=size, replace=True, random_state=123).reset_index(drop=True)\n",
        "    return sampled_df\n"
      ],
      "metadata": {
        "id": "OdQjPKUHGMMI"
      },
      "execution_count": 25,
      "outputs": []
    },
    {
      "cell_type": "code",
      "source": [
        "# Step 3: Fast XGBoost model training\n",
        "def run_fast_xgboost(X, y):\n",
        "    model = XGBClassifier(use_label_encoder=False, eval_metric='logloss', n_estimators=2, verbosity=0)  # Only 2 trees\n",
        "    start = time.time()\n",
        "    scores = cross_val_score(model, X, y, cv=5, scoring='accuracy')\n",
        "    end = time.time()\n",
        "    return np.mean(scores), end - start"
      ],
      "metadata": {
        "id": "w9nmRPj_GPiL"
      },
      "execution_count": 26,
      "outputs": []
    },
    {
      "cell_type": "code",
      "source": [
        "# Step 4: Main Execution\n",
        "if __name__ == \"__main__\":\n",
        "    df = load_pima()\n",
        "    sizes = [100000, 1000000]  # 100k and 1M\n",
        "    results = []\n",
        "\n",
        "    for size in sizes:\n",
        "        print(f\"\\nRunning for dataset size: {size}\")\n",
        "        df_sampled = generate_big_dataset(df, size)\n",
        "        X = df_sampled.drop(columns=['outcome'])\n",
        "        y = df_sampled['outcome']\n",
        "\n",
        "        try:\n",
        "            accuracy, duration = run_fast_xgboost(X, y)\n",
        "            results.append({\n",
        "                'Method Used': 'Python XGBoost 5-fold CV',\n",
        "                'Dataset Size': size,\n",
        "                'Testing-set Predictive Performance (%)': round(accuracy * 100, 2),\n",
        "                'Time Taken to Fit (seconds)': round(duration, 2)\n",
        "            })\n",
        "        except Exception as e:\n",
        "            results.append({\n",
        "                'Method Used': 'Python XGBoost 5-fold CV',\n",
        "                'Dataset Size': size,\n",
        "                'Testing-set Predictive Performance (%)': 'Error',\n",
        "                'Time Taken to Fit (seconds)': str(e)\n",
        "            })\n"
      ],
      "metadata": {
        "colab": {
          "base_uri": "https://localhost:8080/"
        },
        "id": "kwLW1HcSGS4A",
        "outputId": "91c7e30e-d3b7-4d0f-8fa7-281fe4cbd9bb"
      },
      "execution_count": 27,
      "outputs": [
        {
          "output_type": "stream",
          "name": "stdout",
          "text": [
            "\n",
            "Running for dataset size: 100000\n",
            "\n",
            "Running for dataset size: 1000000\n"
          ]
        }
      ]
    },
    {
      "cell_type": "code",
      "source": [
        "results_df = pd.DataFrame(results)\n",
        "print(\"\\nFinal Big Dataset Results:\")\n",
        "print(results_df)\n",
        "\n",
        "# Save results\n",
        "results_df.to_csv('big_xgboost_results_python.csv', index=False)\n",
        "print(\"\\n✅ Big dataset Python results saved to 'big_xgboost_results_python.csv'\")\n"
      ],
      "metadata": {
        "colab": {
          "base_uri": "https://localhost:8080/"
        },
        "id": "Gw0vDH0kGafR",
        "outputId": "f5d92b9a-f8d9-4bb9-c3a5-00d86a30954f"
      },
      "execution_count": 29,
      "outputs": [
        {
          "output_type": "stream",
          "name": "stdout",
          "text": [
            "\n",
            "Final Big Dataset Results:\n",
            "                Method Used  Dataset Size  \\\n",
            "0  Python XGBoost 5-fold CV        100000   \n",
            "1  Python XGBoost 5-fold CV       1000000   \n",
            "\n",
            "   Testing-set Predictive Performance (%)  Time Taken to Fit (seconds)  \n",
            "0                                   86.69                         1.60  \n",
            "1                                   86.59                         6.63  \n",
            "\n",
            "✅ Big dataset Python results saved to 'big_xgboost_results_python.csv'\n"
          ]
        }
      ]
    },
    {
      "cell_type": "code",
      "source": [
        "from google.colab import files\n",
        "files.download('big_xgboost_results_python.csv')\n"
      ],
      "metadata": {
        "colab": {
          "base_uri": "https://localhost:8080/",
          "height": 17
        },
        "id": "moynYPp9G_CV",
        "outputId": "31a8eb93-fd1b-49d9-9355-af0a08f45d30"
      },
      "execution_count": 30,
      "outputs": [
        {
          "output_type": "display_data",
          "data": {
            "text/plain": [
              "<IPython.core.display.Javascript object>"
            ],
            "application/javascript": [
              "\n",
              "    async function download(id, filename, size) {\n",
              "      if (!google.colab.kernel.accessAllowed) {\n",
              "        return;\n",
              "      }\n",
              "      const div = document.createElement('div');\n",
              "      const label = document.createElement('label');\n",
              "      label.textContent = `Downloading \"${filename}\": `;\n",
              "      div.appendChild(label);\n",
              "      const progress = document.createElement('progress');\n",
              "      progress.max = size;\n",
              "      div.appendChild(progress);\n",
              "      document.body.appendChild(div);\n",
              "\n",
              "      const buffers = [];\n",
              "      let downloaded = 0;\n",
              "\n",
              "      const channel = await google.colab.kernel.comms.open(id);\n",
              "      // Send a message to notify the kernel that we're ready.\n",
              "      channel.send({})\n",
              "\n",
              "      for await (const message of channel.messages) {\n",
              "        // Send a message to notify the kernel that we're ready.\n",
              "        channel.send({})\n",
              "        if (message.buffers) {\n",
              "          for (const buffer of message.buffers) {\n",
              "            buffers.push(buffer);\n",
              "            downloaded += buffer.byteLength;\n",
              "            progress.value = downloaded;\n",
              "          }\n",
              "        }\n",
              "      }\n",
              "      const blob = new Blob(buffers, {type: 'application/binary'});\n",
              "      const a = document.createElement('a');\n",
              "      a.href = window.URL.createObjectURL(blob);\n",
              "      a.download = filename;\n",
              "      div.appendChild(a);\n",
              "      a.click();\n",
              "      div.remove();\n",
              "    }\n",
              "  "
            ]
          },
          "metadata": {}
        },
        {
          "output_type": "display_data",
          "data": {
            "text/plain": [
              "<IPython.core.display.Javascript object>"
            ],
            "application/javascript": [
              "download(\"download_a7156e6e-eacd-4074-985e-40ab00b283c3\", \"big_xgboost_results_python.csv\", 178)"
            ]
          },
          "metadata": {}
        }
      ]
    },
    {
      "cell_type": "markdown",
      "source": [
        "Merge"
      ],
      "metadata": {
        "id": "_3vO8paPH8jD"
      }
    },
    {
      "cell_type": "code",
      "source": [
        "import pandas as pd"
      ],
      "metadata": {
        "id": "xqKMxGxEH9ML"
      },
      "execution_count": 31,
      "outputs": []
    },
    {
      "cell_type": "code",
      "source": [
        "# Step 1: Load the CSV files from /content/ folder\n",
        "small_python = pd.read_csv('/content/xgboost_results_python.csv')\n",
        "big_python = pd.read_csv('/content/big_xgboost_results_python.csv')\n",
        "small_r = pd.read_csv('/content/xgboost_results_R.csv')\n",
        "big_r = pd.read_csv('/content/big_xgboost_results_R.csv')"
      ],
      "metadata": {
        "id": "y72_-nXiIAtx"
      },
      "execution_count": 34,
      "outputs": []
    },
    {
      "cell_type": "code",
      "source": [
        "# Merge\n",
        "combined_python = pd.concat([small_python, big_python], ignore_index=True)\n",
        "combined_r = pd.concat([small_r, big_r], ignore_index=True)\n"
      ],
      "metadata": {
        "id": "3EVt66SQJKza"
      },
      "execution_count": 35,
      "outputs": []
    },
    {
      "cell_type": "code",
      "source": [
        "# Merge everything\n",
        "final_results = pd.concat([combined_python, combined_r], ignore_index=True)\n"
      ],
      "metadata": {
        "id": "0SBszfpcJN6a"
      },
      "execution_count": 36,
      "outputs": []
    },
    {
      "cell_type": "code",
      "source": [
        "# Sort by Dataset Size\n",
        "final_results = final_results.sort_values(by=['Dataset Size'])\n"
      ],
      "metadata": {
        "id": "0xNI6nl6JXk7"
      },
      "execution_count": 37,
      "outputs": []
    },
    {
      "cell_type": "code",
      "source": [
        "# Show final results\n",
        "print(final_results)"
      ],
      "metadata": {
        "colab": {
          "base_uri": "https://localhost:8080/"
        },
        "id": "0ZlIvH3xJben",
        "outputId": "5cd13a12-b96b-48d5-868f-fc45fb91127b"
      },
      "execution_count": 38,
      "outputs": [
        {
          "output_type": "stream",
          "name": "stdout",
          "text": [
            "                 Method Used  Dataset Size  \\\n",
            "0   Python XGBoost 5-fold CV         100.0   \n",
            "1   Python XGBoost 5-fold CV        1000.0   \n",
            "2   Python XGBoost 5-fold CV       10000.0   \n",
            "3   Python XGBoost 5-fold CV      100000.0   \n",
            "4   Python XGBoost 5-fold CV     1000000.0   \n",
            "5                        NaN           NaN   \n",
            "6                        NaN           NaN   \n",
            "7                        NaN           NaN   \n",
            "8                        NaN           NaN   \n",
            "9                        NaN           NaN   \n",
            "10                       NaN           NaN   \n",
            "11                       NaN           NaN   \n",
            "12                       NaN           NaN   \n",
            "13                       NaN           NaN   \n",
            "14                       NaN           NaN   \n",
            "15                       NaN           NaN   \n",
            "16                       NaN           NaN   \n",
            "\n",
            "    Testing-set Predictive Performance (%)  Time Taken to Fit (seconds)  \\\n",
            "0                                    80.00                         2.73   \n",
            "1                                    90.60                         0.37   \n",
            "2                                   100.00                         0.78   \n",
            "3                                    86.69                         1.60   \n",
            "4                                    86.59                         6.63   \n",
            "5                                      NaN                          NaN   \n",
            "6                                      NaN                          NaN   \n",
            "7                                      NaN                          NaN   \n",
            "8                                      NaN                          NaN   \n",
            "9                                      NaN                          NaN   \n",
            "10                                     NaN                          NaN   \n",
            "11                                     NaN                          NaN   \n",
            "12                                     NaN                          NaN   \n",
            "13                                     NaN                          NaN   \n",
            "14                                     NaN                          NaN   \n",
            "15                                     NaN                          NaN   \n",
            "16                                     NaN                          NaN   \n",
            "\n",
            "                Method       Size  Accuracy     Time  \n",
            "0                  NaN        NaN       NaN      NaN  \n",
            "1                  NaN        NaN       NaN      NaN  \n",
            "2                  NaN        NaN       NaN      NaN  \n",
            "3                  NaN        NaN       NaN      NaN  \n",
            "4                  NaN        NaN       NaN      NaN  \n",
            "5   R xgboost() direct      100.0     84.28     0.01  \n",
            "6     R caret::xgbTree      100.0      -inf     2.12  \n",
            "7   R xgboost() direct     1000.0     87.80     0.01  \n",
            "8     R caret::xgbTree     1000.0      -inf     4.71  \n",
            "9   R xgboost() direct    10000.0     89.33     0.06  \n",
            "10    R caret::xgbTree    10000.0      -inf    24.99  \n",
            "11  R xgboost() direct   100000.0     88.59     0.62  \n",
            "12    R caret::xgbTree   100000.0      -inf   234.12  \n",
            "13  R xgboost() direct  1000000.0     88.06     6.33  \n",
            "14    R caret::xgbTree  1000000.0      -inf  2355.55  \n",
            "15  R xgboost() direct   100000.0     81.53     0.26  \n",
            "16  R xgboost() direct  1000000.0     81.66     2.32  \n"
          ]
        }
      ]
    },
    {
      "cell_type": "code",
      "source": [
        "# Save merged results\n",
        "final_results.to_csv('/content/final_xgboost_results.csv', index=False)\n",
        "print(\"\\n✅ Final merged results saved!\")"
      ],
      "metadata": {
        "colab": {
          "base_uri": "https://localhost:8080/"
        },
        "id": "tayC4AsbJfOw",
        "outputId": "1b77ff45-3fe5-4682-984a-ac2d5ad3240d"
      },
      "execution_count": 39,
      "outputs": [
        {
          "output_type": "stream",
          "name": "stdout",
          "text": [
            "\n",
            "✅ Final merged results saved!\n"
          ]
        }
      ]
    },
    {
      "cell_type": "code",
      "source": [
        "final_results.to_csv('/content/final_xgboost_results.csv', index=False)  # save merged table\n",
        "from google.colab import files\n",
        "files.download('/content/final_xgboost_results.csv')  # download final CSV\n"
      ],
      "metadata": {
        "colab": {
          "base_uri": "https://localhost:8080/",
          "height": 17
        },
        "id": "bIcWaFyVJxuu",
        "outputId": "7f16b09a-ae14-41b5-f0a8-1e7b8bc44cd8"
      },
      "execution_count": 40,
      "outputs": [
        {
          "output_type": "display_data",
          "data": {
            "text/plain": [
              "<IPython.core.display.Javascript object>"
            ],
            "application/javascript": [
              "\n",
              "    async function download(id, filename, size) {\n",
              "      if (!google.colab.kernel.accessAllowed) {\n",
              "        return;\n",
              "      }\n",
              "      const div = document.createElement('div');\n",
              "      const label = document.createElement('label');\n",
              "      label.textContent = `Downloading \"${filename}\": `;\n",
              "      div.appendChild(label);\n",
              "      const progress = document.createElement('progress');\n",
              "      progress.max = size;\n",
              "      div.appendChild(progress);\n",
              "      document.body.appendChild(div);\n",
              "\n",
              "      const buffers = [];\n",
              "      let downloaded = 0;\n",
              "\n",
              "      const channel = await google.colab.kernel.comms.open(id);\n",
              "      // Send a message to notify the kernel that we're ready.\n",
              "      channel.send({})\n",
              "\n",
              "      for await (const message of channel.messages) {\n",
              "        // Send a message to notify the kernel that we're ready.\n",
              "        channel.send({})\n",
              "        if (message.buffers) {\n",
              "          for (const buffer of message.buffers) {\n",
              "            buffers.push(buffer);\n",
              "            downloaded += buffer.byteLength;\n",
              "            progress.value = downloaded;\n",
              "          }\n",
              "        }\n",
              "      }\n",
              "      const blob = new Blob(buffers, {type: 'application/binary'});\n",
              "      const a = document.createElement('a');\n",
              "      a.href = window.URL.createObjectURL(blob);\n",
              "      a.download = filename;\n",
              "      div.appendChild(a);\n",
              "      a.click();\n",
              "      div.remove();\n",
              "    }\n",
              "  "
            ]
          },
          "metadata": {}
        },
        {
          "output_type": "display_data",
          "data": {
            "text/plain": [
              "<IPython.core.display.Javascript object>"
            ],
            "application/javascript": [
              "download(\"download_1d16f500-ecf7-4c9f-a2e1-f228e2558df1\", \"final_xgboost_results.csv\", 852)"
            ]
          },
          "metadata": {}
        }
      ]
    }
  ]
}