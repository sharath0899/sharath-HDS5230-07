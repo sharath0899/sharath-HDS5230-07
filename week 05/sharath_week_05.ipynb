{
  "cells": [
    {
      "cell_type": "markdown",
      "metadata": {
        "id": "EX8A3_UfAaMm"
      },
      "source": [
        "Name: sharath kasula\n",
        "\n",
        "Course Number: HDS_5230\n",
        "\n",
        "Assignment Number: Week_05_Dask_Programming_Assignment"
      ]
    },
    {
      "cell_type": "markdown",
      "metadata": {
        "id": "UcAwxdSeBCr7"
      },
      "source": [
        "Extract the .csv file from the zipped archive, and load it into a Dask dataframe."
      ]
    },
    {
      "cell_type": "code",
      "execution_count": 28,
      "metadata": {
        "id": "xCcsZ61yApUg"
      },
      "outputs": [],
      "source": [
        "import pandas as pd\n",
        "import dask.dataframe as dd\n",
        "import numpy as np\n",
        "from datetime import datetime"
      ]
    },
    {
      "cell_type": "markdown",
      "metadata": {},
      "source": [
        "Parallelization is Beneficial\n",
        "\n",
        "Dataset is large (aggregated global COVID-19 data).\n",
        "Dask enables parallel file reading and processing, avoiding memory overflow.\n",
        "Reasoning:\n",
        "Using Dask (dd.read_csv()) instead of Pandas (pd.read_csv()) allows data to be loaded in chunks, preventing memory issues.\n",
        "Operations benefiting from Dask:\n",
        "Dask allows handling large files efficiently."
      ]
    },
    {
      "cell_type": "code",
      "execution_count": 29,
      "metadata": {
        "id": "6hENTUb9B3XC"
      },
      "outputs": [],
      "source": [
        "import dask.dataframe as dd\n",
        "\n",
        "# Define data types for efficient loading\n",
        "dtypes = {\n",
        "    'aggregate': 'object',\n",
        "    'cases': 'float64',\n",
        "    'city': 'object',\n",
        "    'population': 'float64',\n",
        "    'deaths': 'float64',\n",
        "    'country': 'object',\n",
        "    'state': 'object',\n",
        "    'date': 'object'\n",
        "}\n",
        "\n",
        "# Load dataset using Dask with explicit dtypes\n",
        "df = dd.read_csv(\"/Users/sharath/Downloads/untitled folder/timeseries.csv\", dtype=dtypes, low_memory=False)\n"
      ]
    },
    {
      "cell_type": "markdown",
      "metadata": {
        "id": "kO9-iRIIHARy"
      },
      "source": [
        "Filter Data for U.S. States"
      ]
    },
    {
      "cell_type": "markdown",
      "metadata": {},
      "source": [
        " Parallel processing offers advantages.\n",
        "\n",
        "Filtering operates row by row. Can be executed simultaneously across rows. \n",
        "Processing data, in partitions, with Dask allows for filtering capabilities. \n",
        "Thinking; \n",
        "Efficient filtering, on a distributed dataset can be achieved through Dasks evaluation technique. \n",
        "\n",
        "Operations that can take advantage of Dask technology include; \n",
        "Parallel filtering reduces computation time."
      ]
    },
    {
      "cell_type": "code",
      "execution_count": 31,
      "metadata": {
        "colab": {
          "base_uri": "https://localhost:8080/",
          "height": 196
        },
        "id": "QnnWs6IZHDyI",
        "outputId": "cd52f0fe-4df3-4048-fbe7-7f8b7f774064"
      },
      "outputs": [],
      "source": [
        "# Filter for US states only and state-level data\n",
        "us_df = df[(df['country'] == 'United States') & (df['level'] == 'state')]\n",
        "\n"
      ]
    },
    {
      "cell_type": "markdown",
      "metadata": {
        "id": "O2AfmP92H4YK"
      },
      "source": [
        "Extract data from January 1, 2020 – February 28, 2021."
      ]
    },
    {
      "cell_type": "code",
      "execution_count": 21,
      "metadata": {
        "id": "jmu61w_DHxX2"
      },
      "outputs": [],
      "source": [
        "# Define date range\n",
        "start_date = '2020-01-01'\n",
        "end_date = '2021-02-28'\n",
        "mask = (us_df['date'] >= start_date) & (us_df['date'] <= end_date)\n",
        "period_df = us_df[mask]\n"
      ]
    },
    {
      "cell_type": "markdown",
      "metadata": {
        "id": "1T5AYfSUIcB_"
      },
      "source": [
        "3.2.Compute Per-Capita Mortality Using Dask"
      ]
    },
    {
      "cell_type": "markdown",
      "metadata": {
        "id": "ZL9xz2Z4KPYU"
      },
      "source": [
        "Compute Total Deaths & Average Population"
      ]
    },
    {
      "cell_type": "code",
      "execution_count": 23,
      "metadata": {
        "colab": {
          "base_uri": "https://localhost:8080/",
          "height": 423
        },
        "id": "YwLfzg2BIcz3",
        "outputId": "e1f852b2-71a3-4390-d9fa-dbaafd1af76c"
      },
      "outputs": [
        {
          "data": {
            "text/html": [
              "<div>\n",
              "<style scoped>\n",
              "    .dataframe tbody tr th:only-of-type {\n",
              "        vertical-align: middle;\n",
              "    }\n",
              "\n",
              "    .dataframe tbody tr th {\n",
              "        vertical-align: top;\n",
              "    }\n",
              "\n",
              "    .dataframe thead th {\n",
              "        text-align: right;\n",
              "    }\n",
              "</style>\n",
              "<table border=\"1\" class=\"dataframe\">\n",
              "  <thead>\n",
              "    <tr style=\"text-align: right;\">\n",
              "      <th></th>\n",
              "      <th>name</th>\n",
              "      <th>level</th>\n",
              "      <th>city</th>\n",
              "      <th>county</th>\n",
              "      <th>state</th>\n",
              "      <th>country</th>\n",
              "      <th>population</th>\n",
              "      <th>lat</th>\n",
              "      <th>long</th>\n",
              "      <th>url</th>\n",
              "      <th>...</th>\n",
              "      <th>recovered</th>\n",
              "      <th>active</th>\n",
              "      <th>tested</th>\n",
              "      <th>hospitalized</th>\n",
              "      <th>hospitalized_current</th>\n",
              "      <th>discharged</th>\n",
              "      <th>icu</th>\n",
              "      <th>icu_current</th>\n",
              "      <th>growthFactor</th>\n",
              "      <th>date</th>\n",
              "    </tr>\n",
              "  </thead>\n",
              "  <tbody>\n",
              "    <tr>\n",
              "      <th>0</th>\n",
              "      <td>Antwerp, Flanders, Belgium</td>\n",
              "      <td>county</td>\n",
              "      <td>&lt;NA&gt;</td>\n",
              "      <td>Antwerp</td>\n",
              "      <td>Flanders</td>\n",
              "      <td>Belgium</td>\n",
              "      <td>1847486.0</td>\n",
              "      <td>51.2485</td>\n",
              "      <td>4.7175</td>\n",
              "      <td>https://epistat.wiv-isp.be/</td>\n",
              "      <td>...</td>\n",
              "      <td>NaN</td>\n",
              "      <td>NaN</td>\n",
              "      <td>NaN</td>\n",
              "      <td>NaN</td>\n",
              "      <td>NaN</td>\n",
              "      <td>NaN</td>\n",
              "      <td>NaN</td>\n",
              "      <td>NaN</td>\n",
              "      <td>NaN</td>\n",
              "      <td>2020-01-22</td>\n",
              "    </tr>\n",
              "    <tr>\n",
              "      <th>1</th>\n",
              "      <td>Antwerp, Flanders, Belgium</td>\n",
              "      <td>county</td>\n",
              "      <td>&lt;NA&gt;</td>\n",
              "      <td>Antwerp</td>\n",
              "      <td>Flanders</td>\n",
              "      <td>Belgium</td>\n",
              "      <td>1847486.0</td>\n",
              "      <td>51.2485</td>\n",
              "      <td>4.7175</td>\n",
              "      <td>https://epistat.wiv-isp.be/</td>\n",
              "      <td>...</td>\n",
              "      <td>NaN</td>\n",
              "      <td>NaN</td>\n",
              "      <td>NaN</td>\n",
              "      <td>NaN</td>\n",
              "      <td>NaN</td>\n",
              "      <td>NaN</td>\n",
              "      <td>NaN</td>\n",
              "      <td>NaN</td>\n",
              "      <td>1.0</td>\n",
              "      <td>2020-01-23</td>\n",
              "    </tr>\n",
              "    <tr>\n",
              "      <th>2</th>\n",
              "      <td>Antwerp, Flanders, Belgium</td>\n",
              "      <td>county</td>\n",
              "      <td>&lt;NA&gt;</td>\n",
              "      <td>Antwerp</td>\n",
              "      <td>Flanders</td>\n",
              "      <td>Belgium</td>\n",
              "      <td>1847486.0</td>\n",
              "      <td>51.2485</td>\n",
              "      <td>4.7175</td>\n",
              "      <td>https://epistat.wiv-isp.be/</td>\n",
              "      <td>...</td>\n",
              "      <td>NaN</td>\n",
              "      <td>NaN</td>\n",
              "      <td>NaN</td>\n",
              "      <td>NaN</td>\n",
              "      <td>NaN</td>\n",
              "      <td>NaN</td>\n",
              "      <td>NaN</td>\n",
              "      <td>NaN</td>\n",
              "      <td>1.0</td>\n",
              "      <td>2020-01-24</td>\n",
              "    </tr>\n",
              "    <tr>\n",
              "      <th>3</th>\n",
              "      <td>Antwerp, Flanders, Belgium</td>\n",
              "      <td>county</td>\n",
              "      <td>&lt;NA&gt;</td>\n",
              "      <td>Antwerp</td>\n",
              "      <td>Flanders</td>\n",
              "      <td>Belgium</td>\n",
              "      <td>1847486.0</td>\n",
              "      <td>51.2485</td>\n",
              "      <td>4.7175</td>\n",
              "      <td>https://epistat.wiv-isp.be/</td>\n",
              "      <td>...</td>\n",
              "      <td>NaN</td>\n",
              "      <td>NaN</td>\n",
              "      <td>NaN</td>\n",
              "      <td>NaN</td>\n",
              "      <td>NaN</td>\n",
              "      <td>NaN</td>\n",
              "      <td>NaN</td>\n",
              "      <td>NaN</td>\n",
              "      <td>1.0</td>\n",
              "      <td>2020-01-25</td>\n",
              "    </tr>\n",
              "    <tr>\n",
              "      <th>4</th>\n",
              "      <td>Antwerp, Flanders, Belgium</td>\n",
              "      <td>county</td>\n",
              "      <td>&lt;NA&gt;</td>\n",
              "      <td>Antwerp</td>\n",
              "      <td>Flanders</td>\n",
              "      <td>Belgium</td>\n",
              "      <td>1847486.0</td>\n",
              "      <td>51.2485</td>\n",
              "      <td>4.7175</td>\n",
              "      <td>https://epistat.wiv-isp.be/</td>\n",
              "      <td>...</td>\n",
              "      <td>NaN</td>\n",
              "      <td>NaN</td>\n",
              "      <td>NaN</td>\n",
              "      <td>NaN</td>\n",
              "      <td>NaN</td>\n",
              "      <td>NaN</td>\n",
              "      <td>NaN</td>\n",
              "      <td>NaN</td>\n",
              "      <td>1.0</td>\n",
              "      <td>2020-01-26</td>\n",
              "    </tr>\n",
              "  </tbody>\n",
              "</table>\n",
              "<p>5 rows × 24 columns</p>\n",
              "</div>"
            ],
            "text/plain": [
              "                         name   level  city   county     state  country  \\\n",
              "0  Antwerp, Flanders, Belgium  county  <NA>  Antwerp  Flanders  Belgium   \n",
              "1  Antwerp, Flanders, Belgium  county  <NA>  Antwerp  Flanders  Belgium   \n",
              "2  Antwerp, Flanders, Belgium  county  <NA>  Antwerp  Flanders  Belgium   \n",
              "3  Antwerp, Flanders, Belgium  county  <NA>  Antwerp  Flanders  Belgium   \n",
              "4  Antwerp, Flanders, Belgium  county  <NA>  Antwerp  Flanders  Belgium   \n",
              "\n",
              "   population      lat    long                          url  ... recovered  \\\n",
              "0   1847486.0  51.2485  4.7175  https://epistat.wiv-isp.be/  ...       NaN   \n",
              "1   1847486.0  51.2485  4.7175  https://epistat.wiv-isp.be/  ...       NaN   \n",
              "2   1847486.0  51.2485  4.7175  https://epistat.wiv-isp.be/  ...       NaN   \n",
              "3   1847486.0  51.2485  4.7175  https://epistat.wiv-isp.be/  ...       NaN   \n",
              "4   1847486.0  51.2485  4.7175  https://epistat.wiv-isp.be/  ...       NaN   \n",
              "\n",
              "  active  tested  hospitalized  hospitalized_current  discharged  icu  \\\n",
              "0    NaN     NaN           NaN                   NaN         NaN  NaN   \n",
              "1    NaN     NaN           NaN                   NaN         NaN  NaN   \n",
              "2    NaN     NaN           NaN                   NaN         NaN  NaN   \n",
              "3    NaN     NaN           NaN                   NaN         NaN  NaN   \n",
              "4    NaN     NaN           NaN                   NaN         NaN  NaN   \n",
              "\n",
              "   icu_current  growthFactor        date  \n",
              "0          NaN           NaN  2020-01-22  \n",
              "1          NaN           1.0  2020-01-23  \n",
              "2          NaN           1.0  2020-01-24  \n",
              "3          NaN           1.0  2020-01-25  \n",
              "4          NaN           1.0  2020-01-26  \n",
              "\n",
              "[5 rows x 24 columns]"
            ]
          },
          "execution_count": 23,
          "metadata": {},
          "output_type": "execute_result"
        }
      ],
      "source": [
        "import dask.dataframe as dd\n",
        "\n",
        "# Define explicit data types to prevent dtype mismatches\n",
        "dtypes = {\n",
        "    'aggregate': 'object',\n",
        "    'cases': 'float64',\n",
        "    'city': 'object',\n",
        "    'population': 'float64',\n",
        "    'deaths': 'float64',\n",
        "    'country': 'object',\n",
        "    'state': 'object',\n",
        "    'date': 'object'\n",
        "}\n",
        "\n",
        "# Load dataset using Dask with explicit dtypes\n",
        "df = dd.read_csv(\"/Users/sharath/Downloads/untitled folder/timeseries.csv\", dtype=dtypes, low_memory=False)\n",
        "\n",
        "# Display first few rows to verify loading\n",
        "df.head()\n",
        "\n",
        "\n"
      ]
    },
    {
      "cell_type": "markdown",
      "metadata": {
        "id": "Ii3CENaVcBT_"
      },
      "source": [
        "Per-Capita Mortality=\n",
        "TotalDeaths/Avg Population\n"
      ]
    },
    {
      "cell_type": "markdown",
      "metadata": {},
      "source": [
        " \"Parallel processing offers advantages.\"\n",
        "\n",
        "Involves combining rows together by performing calculations like adding them up or finding the average.\n",
        "With Dask you can aggregate data in pieces of storing everything in memory all at once. \n",
        "Thinking through; \n",
        "Aggregations, like sum() and mean() can be spread out across sections in Dask to speed up processing, for datasets. \n",
        "Industries that can leverage Dask technology; \n",
        "Using .compute() at the end ensures efficient execution."
      ]
    },
    {
      "cell_type": "code",
      "execution_count": 24,
      "metadata": {
        "id": "FYU4cOy8avH1"
      },
      "outputs": [],
      "source": [
        "# Convert date column to datetime format\n",
        "df['date'] = dd.to_datetime(df['date'])\n",
        "\n",
        "# Filter only U.S. state-level data\n",
        "us_df = df[(df['country'] == 'United States') & (df['aggregate'] == 'state')]\n",
        "\n",
        "# Define date range for filtering\n",
        "start_date = '2020-01-01'\n",
        "end_date = '2021-02-28'\n",
        "\n",
        "# Apply date range filter\n",
        "period_df = us_df[(us_df['date'] >= start_date) & (us_df['date'] <= end_date)]\n",
        "\n",
        "deaths_by_state = period_df.groupby('state')['deaths'].agg(['min', 'max']).compute()\n",
        "total_deaths = deaths_by_state['max'] - deaths_by_state['min']\n",
        "\n",
        "avg_population = period_df.groupby('state')['population'].mean().compute()\n",
        "\n",
        "state_metrics = pd.DataFrame({'total_deaths': total_deaths, 'avg_population': avg_population})\n",
        "state_metrics['per_capita_mortality'] = state_metrics['total_deaths'] / state_metrics['avg_population']\n"
      ]
    },
    {
      "cell_type": "markdown",
      "metadata": {
        "id": "WJT_TSNggRb2"
      },
      "source": [
        "Compute Monthly Case Fatality Rate (CFR)"
      ]
    },
    {
      "cell_type": "markdown",
      "metadata": {},
      "source": [
        " \"Utilizing computing offers advantages.\"\n",
        "\n",
        "Each calculation of the CFR, for a month is done separately without any connection, to future calculations. \n",
        "\n",
        "Thinking through; \n",
        "Than calculating the CFR month by month sequentially Dask allows for all months to be computed simultaneously. \n",
        "Tasks that can take advantage of Dask; \n",
        "Dask speeds up group operations across months."
      ]
    },
    {
      "cell_type": "code",
      "execution_count": 25,
      "metadata": {
        "colab": {
          "base_uri": "https://localhost:8080/"
        },
        "id": "kb1AeTjNgiXg",
        "outputId": "240358da-351c-4108-d314-47f116a76bfb"
      },
      "outputs": [
        {
          "name": "stdout",
          "output_type": "stream",
          "text": [
            "year_month      2020-01  2020-02   2020-03   2020-04   2020-05   2020-06  \\\n",
            "state                                                                      \n",
            "Alabama             NaN      NaN  0.005324  0.029829  0.038967  0.029617   \n",
            "Alaska              NaN      NaN  0.000000  0.026795  0.024091  0.013322   \n",
            "American Samoa      NaN      NaN       NaN  0.000000  0.000000  0.000000   \n",
            "Arizona             0.0      0.0  0.000000  0.029733  0.039077  0.004230   \n",
            "Arkansas            NaN      NaN  0.009231  0.018736  0.021011  0.015134   \n",
            "\n",
            "year_month       2020-07  \n",
            "state                     \n",
            "Alabama         0.023956  \n",
            "Alaska          0.014205  \n",
            "American Samoa  0.000000  \n",
            "Arizona         0.019471  \n",
            "Arkansas        0.012545  \n"
          ]
        }
      ],
      "source": [
        "# Convert date column to datetime\n",
        "period_df['date'] = dd.to_datetime(period_df['date'])\n",
        "\n",
        "# Extract year-month for grouping\n",
        "period_df['year_month'] = period_df['date'].dt.to_period('M')\n",
        "\n",
        "# Compute total cases and deaths per state per month\n",
        "cfr_df = period_df.groupby(['state', 'year_month']).agg({\n",
        "    'deaths': 'sum',\n",
        "    'cases': 'sum'\n",
        "}).compute()\n",
        "\n",
        "# Compute CFR\n",
        "cfr_df['CFR'] = (cfr_df['deaths'] / cfr_df['cases']).fillna(0)\n",
        "\n",
        "\n",
        "# Reshape data to create a 50x14 matrix\n",
        "cfr_matrix = cfr_df.pivot_table(values='CFR', index='state', columns='year_month')\n",
        "\n",
        "# Display CFR matrix\n",
        "print(cfr_matrix.head())\n"
      ]
    },
    {
      "cell_type": "markdown",
      "metadata": {
        "id": "qLo-6MGSg4GE"
      },
      "source": [
        "3.3. Compute CFR Change Rankings"
      ]
    },
    {
      "cell_type": "markdown",
      "metadata": {},
      "source": [
        "Parallelization is Beneficial\n",
        "\n",
        "Computing differences across months is an array operation.\n",
        "Dask enables optimized .diff() operations.\n",
        "Reasoning:\n",
        "Parallel execution of CFR change computations across months reduces execution time.\n",
        "Operations benefiting from Dask:\n",
        "Parallelized .diff() improves efficiency."
      ]
    },
    {
      "cell_type": "markdown",
      "metadata": {},
      "source": []
    },
    {
      "cell_type": "code",
      "execution_count": 26,
      "metadata": {
        "colab": {
          "base_uri": "https://localhost:8080/"
        },
        "id": "oT3boOR9g6nj",
        "outputId": "87854d98-a0f6-491c-d074-0500ac9b199a"
      },
      "outputs": [
        {
          "name": "stdout",
          "output_type": "stream",
          "text": [
            "                          Total CFR Change\n",
            "state                                     \n",
            "Arizona                           0.089165\n",
            "New Jersey                        0.083710\n",
            "Michigan                          0.079918\n",
            "Northern Mariana Islands          0.079321\n",
            "Connecticut                       0.075907\n"
          ]
        }
      ],
      "source": [
        "# Compute month-over-month CFR changes\n",
        "cfr_changes = cfr_matrix.diff(axis=1).fillna(0)\n",
        "\n",
        "# Sum absolute month-over-month changes per state\n",
        "cfr_change_rank = cfr_changes.abs().sum(axis=1).sort_values(ascending=False)\n",
        "\n",
        "# Convert results to DataFrame\n",
        "cfr_change_rank_df = pd.DataFrame({'Total CFR Change': cfr_change_rank})\n",
        "\n",
        "# Display CFR change ranking\n",
        "print(cfr_change_rank_df.head())\n"
      ]
    },
    {
      "cell_type": "markdown",
      "metadata": {},
      "source": [
        "Parallelization is NOT Necessary\n",
        "\n",
        "Sorting operations are best handled by Pandas.\n",
        "Dask’s overhead is unnecessary for a small dataset (50 states).\n",
        "Reasoning:\n",
        "Once the dataset is reduced to only 50 states, Pandas (.rank()) is faster than Dask.\n",
        "Operations benefiting from Pandas (Single-Threaded Processing):\n",
        "Pandas handles small-scale ranking efficiently."
      ]
    },
    {
      "cell_type": "markdown",
      "metadata": {
        "id": "3G8zYZoVhDlC"
      },
      "source": [
        "Justification for Parallelized Computation"
      ]
    },
    {
      "cell_type": "code",
      "execution_count": 27,
      "metadata": {
        "colab": {
          "base_uri": "https://localhost:8080/"
        },
        "id": "ouxLosSohEZM",
        "outputId": "b6d35433-9e3d-45f2-c604-05b13aed6a07"
      },
      "outputs": [
        {
          "name": "stdout",
          "output_type": "stream",
          "text": [
            "\n",
            "Parallelized computation is beneficial for:\n",
            "- Large datasets: COVID-19 time series data spans multiple states and dates, making parallel processing efficient.\n",
            "- Aggregation operations: Computing per-state totals, means, and CFR changes benefits from distributed processing.\n",
            "- CFR computation: Monthly breakdowns involve summation and division operations, ideal for parallel execution.\n",
            "However, for smaller operations (e.g., ranking CFR changes), single-threaded execution suffices.\n",
            "\n"
          ]
        }
      ],
      "source": [
        "justification = \"\"\"\n",
        "Parallelized computation is beneficial for:\n",
        "- Large datasets: COVID-19 time series data spans multiple states and dates, making parallel processing efficient.\n",
        "- Aggregation operations: Computing per-state totals, means, and CFR changes benefits from distributed processing.\n",
        "- CFR computation: Monthly breakdowns involve summation and division operations, ideal for parallel execution.\n",
        "However, for smaller operations (e.g., ranking CFR changes), single-threaded execution suffices.\n",
        "\"\"\"\n",
        "print(justification)\n"
      ]
    }
  ],
  "metadata": {
    "colab": {
      "provenance": []
    },
    "kernelspec": {
      "display_name": "Python 3",
      "name": "python3"
    },
    "language_info": {
      "codemirror_mode": {
        "name": "ipython",
        "version": 3
      },
      "file_extension": ".py",
      "mimetype": "text/x-python",
      "name": "python",
      "nbconvert_exporter": "python",
      "pygments_lexer": "ipython3",
      "version": "3.13.2"
    }
  },
  "nbformat": 4,
  "nbformat_minor": 0
}
